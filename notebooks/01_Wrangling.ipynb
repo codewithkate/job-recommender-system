{
 "cells": [
  {
   "cell_type": "markdown",
   "id": "f2628bd7-8694-41e3-9147-df41284bf786",
   "metadata": {},
   "source": [
    "# Data Wrangling for Job Postings\n",
    "___\n"
   ]
  },
  {
   "cell_type": "code",
   "execution_count": 1,
   "id": "679ffc16-61f5-404b-92d8-21fc320dcda9",
   "metadata": {},
   "outputs": [],
   "source": [
    "# Imports\n",
    "import pandas as pd\n",
    "import numpy as np\n",
    "import re\n",
    "\n",
    "from html.parser import HTMLParser"
   ]
  },
  {
   "cell_type": "markdown",
   "id": "0143f582-5214-4e99-a7d1-f862b7b94013",
   "metadata": {
    "tags": []
   },
   "source": [
    "## Custom Functions\n",
    "___"
   ]
  },
  {
   "cell_type": "code",
   "execution_count": 2,
   "id": "8f930c9a-71a2-410f-bd14-6b1ed014d649",
   "metadata": {
    "tags": []
   },
   "outputs": [],
   "source": [
    "class CleanData:\n",
    "    def __init__(self, df):\n",
    "        self.df = df\n",
    "        \n",
    "    def remove_html_tags(self, column):\n",
    "        return self.df[column].apply(lambda x: re.sub('<[^<]+?>', '', x))\n",
    "\n",
    "    def replace_escapes(self, column):\n",
    "        return self.df[column].apply(lambda x: ''.join([i for i in x.splitlines() if i != '']))"
   ]
  },
  {
   "cell_type": "code",
   "execution_count": 3,
   "id": "f21d5694-95f4-4cb8-baba-febc62b07003",
   "metadata": {},
   "outputs": [],
   "source": [
    "def make_id(data, letter):\n",
    "    return [letter + str(i).rjust(4, \"0\") for i in range(len(data))]"
   ]
  },
  {
   "cell_type": "markdown",
   "id": "cdc375f2-46cf-4e52-8b05-affbf8e1ea6a",
   "metadata": {
    "tags": []
   },
   "source": [
    "## Reading and Cleaning Collected Sources\n",
    "___"
   ]
  },
  {
   "cell_type": "markdown",
   "id": "69504a54-5b95-4d20-a403-16a7604f53cf",
   "metadata": {
    "tags": []
   },
   "source": [
    "### Indeed Job Posting Dataset from [PromptCloud and DataStock](https://data.world/promptcloud/indeed-job-posting-dataset).\n",
    "SQL Query:\n",
    "```SQL\n",
    "SELECT DISTINCT job_title, job_description, job_type, location, city, state, salary_from, salary_to, company_name, companydescription\n",
    "FROM marketing_sample_for_trulia_com_real_estate_20190901_20191031_30k_data\n",
    "WHERE (job_title LIKE '%AI%'\n",
    "    OR job_title LIKE '%IT%'\n",
    "    OR job_title LIKE '%Software%'\n",
    "    OR job_title LIKE '%Engineer%'\n",
    "    OR job_title LIKE '%Data%'\n",
    "    OR job_title LIKE '%Analyst%'\n",
    "    AND job_title NOT LIKE 'Air%');\n",
    "```\n",
    "\n",
    "**Preprocessing prior to merging with other job postings datasets:**\n",
    "- Create Unique ID\n",
    "- Convert titles and company names text to lowercase\n",
    "- Create a `job_docs` column for merging with other data sets\n",
    "- Create columns for merging and fill them with NAN values\n",
    "- Preview job posting used in preprocessing"
   ]
  },
  {
   "cell_type": "code",
   "execution_count": 4,
   "id": "8ae69af2-2211-4e70-b53c-b2ae7618fb82",
   "metadata": {},
   "outputs": [
    {
     "name": "stdout",
     "output_type": "stream",
     "text": [
      "<class 'pandas.core.frame.DataFrame'>\n",
      "RangeIndex: 28848 entries, 0 to 28847\n",
      "Data columns (total 12 columns):\n",
      " #   Column              Non-Null Count  Dtype  \n",
      "---  ------              --------------  -----  \n",
      " 0   job_title           28848 non-null  object \n",
      " 1   job_description     28848 non-null  object \n",
      " 2   job_type            0 non-null      float64\n",
      " 3   location            28848 non-null  object \n",
      " 4   city                28848 non-null  object \n",
      " 5   state               28848 non-null  object \n",
      " 6   salary_from         0 non-null      float64\n",
      " 7   salary_to           0 non-null      float64\n",
      " 8   company_name        28846 non-null  object \n",
      " 9   companydescription  19050 non-null  object \n",
      " 10  job_docs            28848 non-null  object \n",
      " 11  id                  28848 non-null  object \n",
      "dtypes: float64(3), object(9)\n",
      "memory usage: 2.6+ MB\n"
     ]
    }
   ],
   "source": [
    "# Read in data\n",
    "data_indeed = pd.read_csv('../data/postings/postings_indeed.csv', index_col=None)\n",
    "data_indeed.info()"
   ]
  },
  {
   "cell_type": "markdown",
   "id": "0891e3ce-17b7-4d2e-b245-e71176ae60fe",
   "metadata": {},
   "source": [
    "#### Preprocess Data"
   ]
  },
  {
   "cell_type": "code",
   "execution_count": 5,
   "id": "c12bbf23-79a6-4863-8791-e271c96e383b",
   "metadata": {},
   "outputs": [],
   "source": [
    "# Create Unique ID\n",
    "data_indeed['id'] = make_id(data_indeed, letter='I')"
   ]
  },
  {
   "cell_type": "code",
   "execution_count": 6,
   "id": "5aeded25-5041-4d43-b36b-2d6aed72ec34",
   "metadata": {},
   "outputs": [],
   "source": [
    "# Convert titles and company names text to lowercase\n",
    "data_indeed['job_title'] = data_indeed['job_title'].apply(lambda x: str(x).lower())\n",
    "data_indeed['company_name'] = data_indeed['company_name'].apply(lambda x: str(x).lower())"
   ]
  },
  {
   "cell_type": "code",
   "execution_count": 7,
   "id": "d98604e4-95d3-4b39-b20f-2edfb6f6e4a8",
   "metadata": {},
   "outputs": [],
   "source": [
    "# Create a `job_docs` column\n",
    "# separate words that were combined by subdividing at capital letters\n",
    "data_indeed['job_description'] = data_indeed['job_description'].apply(lambda x: re.sub(r'[A-Z]+[a-z]+', r\" \\g<0> \", x))\n",
    "# remove html tags\n",
    "data_indeed['job_docs'] = CleanData(data_indeed).remove_html_tags(column='job_description')\n",
    "# remove escape characters for things like new lines\n",
    "data_indeed['job_docs'] = CleanData(data_indeed).replace_escapes(column='job_docs')"
   ]
  },
  {
   "cell_type": "code",
   "execution_count": 8,
   "id": "a3e8991f-26f2-46ba-8e3c-3520ee8ef13b",
   "metadata": {},
   "outputs": [],
   "source": [
    "# Set new column values\n",
    "data_indeed['category'] = np.nan\n",
    "data_indeed['url'] = np.nan\n",
    "data_indeed['job_board'] = np.nan"
   ]
  },
  {
   "cell_type": "markdown",
   "id": "296cd85f-8e3e-448d-8b2f-00e8ea08ce59",
   "metadata": {},
   "source": [
    "#### Preview column used in natural language processing"
   ]
  },
  {
   "cell_type": "code",
   "execution_count": 9,
   "id": "2af4299b-0785-4f77-97a4-67b290003380",
   "metadata": {},
   "outputs": [
    {
     "data": {
      "text/plain": [
       "' Ceridian .  Makes   Work   Life   Better ™ This  is our promise.  Not  only for our customers, but our employees as well. Do  you thrive in an innovative and exciting environment that’s continuously '"
      ]
     },
     "execution_count": 9,
     "metadata": {},
     "output_type": "execute_result"
    }
   ],
   "source": [
    "data_indeed.job_docs[0][:200]"
   ]
  },
  {
   "cell_type": "markdown",
   "id": "fef5dd5a-2f6f-47c3-8718-c161b1f45816",
   "metadata": {
    "tags": []
   },
   "source": [
    "### Job Posts & Online Courses Study found on [Mendeley](https://data.mendeley.com/datasets/8svrmx2cmv).\n",
    "\n",
    "**Preprocessing prior to merging with other job postings datasets:**\n",
    "- Create Unique ID\n",
    "- Convert titles and company names text to lowercase\n",
    "- Create a `job_docs` column for merging with other data sets\n",
    "- Rename `job_link` column to `url` for merging\n",
    "- Create new columns for merging and fill them with NAN values\n",
    "    - columns include: `company_name`, `city`, `state`\n",
    "- Preview job posting used in preprocessing"
   ]
  },
  {
   "cell_type": "code",
   "execution_count": 10,
   "id": "d0bba484-6b29-450a-85d3-4efd82e8266a",
   "metadata": {
    "tags": []
   },
   "outputs": [
    {
     "name": "stdout",
     "output_type": "stream",
     "text": [
      "<class 'pandas.core.frame.DataFrame'>\n",
      "RangeIndex: 9067 entries, 0 to 9066\n",
      "Data columns (total 5 columns):\n",
      " #   Column           Non-Null Count  Dtype \n",
      "---  ------           --------------  ----- \n",
      " 0   job_title        9067 non-null   object\n",
      " 1   job_description  9067 non-null   object\n",
      " 2   job_link         9067 non-null   object\n",
      " 3   job_docs         9067 non-null   object\n",
      " 4   id               9067 non-null   object\n",
      "dtypes: object(5)\n",
      "memory usage: 354.3+ KB\n"
     ]
    }
   ],
   "source": [
    "# Read in Data\n",
    "data_mendeley = pd.read_csv('../data/postings/postings_mendeley.csv', index_col=None)\n",
    "data_mendeley.info()"
   ]
  },
  {
   "cell_type": "markdown",
   "id": "daf0b6b7-37ec-4faa-b2a4-de1fcc4c3d49",
   "metadata": {},
   "source": [
    "#### Preprocess Data"
   ]
  },
  {
   "cell_type": "code",
   "execution_count": 11,
   "id": "e60b5958-16b6-4350-9f6a-48dd2cf7f733",
   "metadata": {},
   "outputs": [],
   "source": [
    "# Create Unique ID\n",
    "data_mendeley['id'] = make_id(data_mendeley, letter='M')"
   ]
  },
  {
   "cell_type": "code",
   "execution_count": 12,
   "id": "dea417c5-3e69-4579-9f3b-b1252085876b",
   "metadata": {},
   "outputs": [],
   "source": [
    "# Convert titles and company names text to lowercase\n",
    "data_mendeley['job_title'] = data_mendeley['job_title'].apply(lambda x: str(x).lower())"
   ]
  },
  {
   "cell_type": "code",
   "execution_count": 13,
   "id": "deaf6929-ad81-49f5-bed4-d642fa049f50",
   "metadata": {},
   "outputs": [],
   "source": [
    "# Create a 'job_docs' column\n",
    "# separate words that were combined by subdividing at capital letters\n",
    "data_mendeley['job_description'] = data_mendeley['job_description'].apply(lambda x: re.sub(r'[A-Z]+[a-z]+', r\" \\g<0> \", x))\n",
    "# remove escape characters for things like new lines\n",
    "data_mendeley['job_docs'] = CleanData(data_mendeley).replace_escapes(column='job_description')"
   ]
  },
  {
   "cell_type": "code",
   "execution_count": 14,
   "id": "f2b958e9-381b-4ca3-be80-6a56a36d8b7c",
   "metadata": {},
   "outputs": [],
   "source": [
    "# Rename 'job_link' column to 'url' for merging\n",
    "data_mendeley.rename(columns={'job_link': 'url'}, inplace=True)"
   ]
  },
  {
   "cell_type": "code",
   "execution_count": 15,
   "id": "fd613bce-c9ab-4cd5-b17d-b36707e979d8",
   "metadata": {},
   "outputs": [],
   "source": [
    "# Set new column values\n",
    "data_mendeley['job_board'] = np.nan\n",
    "data_mendeley['job_type'] = np.nan\n",
    "data_mendeley['category'] = np.nan\n",
    "data_mendeley['company_name'] = np.nan\n",
    "data_mendeley['city'] = np.nan\n",
    "data_mendeley['state'] = np.nan"
   ]
  },
  {
   "cell_type": "markdown",
   "id": "64fd5f7a-f093-4d65-a9ac-1c708ec2bc56",
   "metadata": {},
   "source": [
    "#### Preview column used in natural language processing"
   ]
  },
  {
   "cell_type": "code",
   "execution_count": 16,
   "id": "28ca0e84-1c14-4a38-87a9-a9aa0e8e9fe6",
   "metadata": {},
   "outputs": [
    {
     "data": {
      "text/plain": [
       "\" Education  Bachelor 's  Degree  Skills  SQLTime   Management  No  SQLIATHadoop  Raytheon  is supporting a U.S.  Government  customer on a large mission critical development and sustainment program wi\""
      ]
     },
     "execution_count": 16,
     "metadata": {},
     "output_type": "execute_result"
    }
   ],
   "source": [
    "data_mendeley.job_docs[0][:200]"
   ]
  },
  {
   "cell_type": "markdown",
   "id": "d771c64f-ff53-4191-829d-36c42270680d",
   "metadata": {
    "tags": []
   },
   "source": [
    "### Data Scientist Job Postings found on [Kaggle](https://www.kaggle.com/datasets/jobspikr/data-scientist-job-postings-from-the-usa) from JobsPikr. \n",
    "\n",
    "**Preprocessing prior to merging with other job postings datasets:**\n",
    "- Create Unique ID\n",
    "- Convert titles and company names text to lowercase\n",
    "- Create a `job_docs` column for merging with other data sets\n",
    "- Preview job posting used in preprocessing"
   ]
  },
  {
   "cell_type": "code",
   "execution_count": 17,
   "id": "6155374f-d7ec-4989-b2ed-2380dfa63b9c",
   "metadata": {
    "tags": []
   },
   "outputs": [
    {
     "name": "stdout",
     "output_type": "stream",
     "text": [
      "<class 'pandas.core.frame.DataFrame'>\n",
      "Index: 10000 entries, 2019-02-06 05:26:22 +0000 to 2019-09-27 00:53:10 +0000\n",
      "Data columns (total 23 columns):\n",
      " #   Column                Non-Null Count  Dtype  \n",
      "---  ------                --------------  -----  \n",
      " 0   url                   10000 non-null  object \n",
      " 1   job_title             10000 non-null  object \n",
      " 2   category              9118 non-null   object \n",
      " 3   company_name          9999 non-null   object \n",
      " 4   city                  9751 non-null   object \n",
      " 5   state                 9584 non-null   object \n",
      " 6   country               10000 non-null  object \n",
      " 7   inferred_city         8980 non-null   object \n",
      " 8   inferred_state        9484 non-null   object \n",
      " 9   inferred_country      9505 non-null   object \n",
      " 10  post_date             10000 non-null  object \n",
      " 11  job_description       10000 non-null  object \n",
      " 12  job_type              10000 non-null  object \n",
      " 13  salary_offered        597 non-null    object \n",
      " 14  job_board             9310 non-null   object \n",
      " 15  geo                   9300 non-null   object \n",
      " 16  cursor                10000 non-null  int64  \n",
      " 17  contact_email         0 non-null      float64\n",
      " 18  contact_phone_number  416 non-null    object \n",
      " 19  uniq_id               10000 non-null  object \n",
      " 20  html_job_description  1599 non-null   object \n",
      " 21  job_docs              10000 non-null  object \n",
      " 22  id                    10000 non-null  object \n",
      "dtypes: float64(1), int64(1), object(21)\n",
      "memory usage: 1.8+ MB\n"
     ]
    }
   ],
   "source": [
    "# Read in Data\n",
    "data_jobspikr = pd.read_csv('../data/postings/postings_jobspikr.csv', index_col='crawl_timestamp')\n",
    "data_jobspikr.info()"
   ]
  },
  {
   "cell_type": "markdown",
   "id": "09367e5b-63f0-4208-b7a0-87aa441398ef",
   "metadata": {},
   "source": [
    "#### Preprocess Data"
   ]
  },
  {
   "cell_type": "code",
   "execution_count": 18,
   "id": "227edb0d-f99e-4e35-84a3-5d51513cc9a9",
   "metadata": {},
   "outputs": [],
   "source": [
    "# Create Unique ID\n",
    "data_jobspikr['id'] = make_id(data_jobspikr, letter='J')"
   ]
  },
  {
   "cell_type": "code",
   "execution_count": 19,
   "id": "e60cbd40-6af1-4bfd-9128-5515a589d81d",
   "metadata": {},
   "outputs": [],
   "source": [
    "# Convert titles and company names text to lowercase\n",
    "data_jobspikr['job_title'] = data_jobspikr['job_title'].apply(lambda x: str(x).lower())\n",
    "data_jobspikr['company_name'] = data_jobspikr['company_name'].apply(lambda x: str(x).lower())"
   ]
  },
  {
   "cell_type": "code",
   "execution_count": 20,
   "id": "4969f6c7-6ccc-4185-ac02-ee81f7cd7f72",
   "metadata": {},
   "outputs": [],
   "source": [
    "# Create a `job_docs` column for merging with other data sets\n",
    "data_jobspikr['job_docs'] = CleanData(data_jobspikr).replace_escapes(column='job_description')"
   ]
  },
  {
   "cell_type": "markdown",
   "id": "3aeda775-a0db-49d2-8918-9920ea31a75b",
   "metadata": {},
   "source": [
    "#### Preview job posting used in preprocessing"
   ]
  },
  {
   "cell_type": "code",
   "execution_count": 21,
   "id": "2397c0dd-51ed-4b19-baa1-80754b4668c6",
   "metadata": {},
   "outputs": [
    {
     "data": {
      "text/plain": [
       "'Read what people are saying about working here. We are Farmers!Join a team of diverse professionals at Farmers to acquire skills on the job and apply your learned knowledge to future roles at Farmers.'"
      ]
     },
     "execution_count": 21,
     "metadata": {},
     "output_type": "execute_result"
    }
   ],
   "source": [
    "data_jobspikr['job_docs'][0][:200]"
   ]
  },
  {
   "cell_type": "markdown",
   "id": "6721c504-0845-401b-9386-be632ed146d2",
   "metadata": {
    "tags": []
   },
   "source": [
    "## Merging Datasets\n",
    "___"
   ]
  },
  {
   "cell_type": "code",
   "execution_count": 22,
   "id": "9a54cc7c-00db-4455-ae06-28e7b4008452",
   "metadata": {},
   "outputs": [],
   "source": [
    "# Select columns for merging\n",
    "desired_columns = ['id','job_title', 'job_docs', 'job_type', 'category', 'job_board', 'company_name', 'city', 'state', 'url']"
   ]
  },
  {
   "cell_type": "code",
   "execution_count": 23,
   "id": "2ceb884a-7962-4e4b-bbfb-4fe33562f8ca",
   "metadata": {},
   "outputs": [],
   "source": [
    "# Axis 0 merge on desired columns\n",
    "data_all_postings = pd.concat([data_indeed[desired_columns], data_jobspikr[desired_columns], data_mendeley[desired_columns]])"
   ]
  },
  {
   "cell_type": "code",
   "execution_count": 24,
   "id": "841874e9-da50-42ad-b97e-cd013c97cda9",
   "metadata": {},
   "outputs": [],
   "source": [
    "# Combine job title with job description to use in NLP\n",
    "data_all_postings['full_desc'] = data_all_postings['job_title'] + \" \" + data_all_postings['job_docs']"
   ]
  },
  {
   "cell_type": "markdown",
   "id": "f7c63dbf-f417-4ad5-be11-f1c9f5365ff1",
   "metadata": {},
   "source": [
    "### Preview Merged Data"
   ]
  },
  {
   "cell_type": "code",
   "execution_count": 25,
   "id": "075d2404-6f3b-4fb2-8e11-b4fd9a300229",
   "metadata": {},
   "outputs": [
    {
     "data": {
      "text/html": [
       "<div>\n",
       "<style scoped>\n",
       "    .dataframe tbody tr th:only-of-type {\n",
       "        vertical-align: middle;\n",
       "    }\n",
       "\n",
       "    .dataframe tbody tr th {\n",
       "        vertical-align: top;\n",
       "    }\n",
       "\n",
       "    .dataframe thead th {\n",
       "        text-align: right;\n",
       "    }\n",
       "</style>\n",
       "<table border=\"1\" class=\"dataframe\">\n",
       "  <thead>\n",
       "    <tr style=\"text-align: right;\">\n",
       "      <th></th>\n",
       "      <th>id</th>\n",
       "      <th>job_title</th>\n",
       "      <th>job_docs</th>\n",
       "      <th>job_type</th>\n",
       "      <th>category</th>\n",
       "      <th>job_board</th>\n",
       "      <th>company_name</th>\n",
       "      <th>city</th>\n",
       "      <th>state</th>\n",
       "      <th>url</th>\n",
       "      <th>full_desc</th>\n",
       "    </tr>\n",
       "  </thead>\n",
       "  <tbody>\n",
       "    <tr>\n",
       "      <th>0</th>\n",
       "      <td>I0000</td>\n",
       "      <td>manager, implementation</td>\n",
       "      <td>Ceridian .  Makes   Work   Life   Better ™ Th...</td>\n",
       "      <td>NaN</td>\n",
       "      <td>NaN</td>\n",
       "      <td>NaN</td>\n",
       "      <td>ceridian</td>\n",
       "      <td>Saint Petersburg</td>\n",
       "      <td>FL</td>\n",
       "      <td>NaN</td>\n",
       "      <td>manager, implementation  Ceridian .  Makes   W...</td>\n",
       "    </tr>\n",
       "    <tr>\n",
       "      <th>1</th>\n",
       "      <td>I0001</td>\n",
       "      <td>account executive (digital sales)</td>\n",
       "      <td>Salem   Media   Group  in the  Twin   Cities ...</td>\n",
       "      <td>NaN</td>\n",
       "      <td>NaN</td>\n",
       "      <td>NaN</td>\n",
       "      <td>salem media group</td>\n",
       "      <td>Eagan</td>\n",
       "      <td>MN</td>\n",
       "      <td>NaN</td>\n",
       "      <td>account executive (digital sales)  Salem   Med...</td>\n",
       "    </tr>\n",
       "    <tr>\n",
       "      <th>2</th>\n",
       "      <td>I0002</td>\n",
       "      <td>manager, sales development</td>\n",
       "      <td>We  are growing!  Join  us to make subscripti...</td>\n",
       "      <td>NaN</td>\n",
       "      <td>NaN</td>\n",
       "      <td>NaN</td>\n",
       "      <td>recurly</td>\n",
       "      <td>San Francisco</td>\n",
       "      <td>CA</td>\n",
       "      <td>NaN</td>\n",
       "      <td>manager, sales development  We  are growing!  ...</td>\n",
       "    </tr>\n",
       "    <tr>\n",
       "      <th>3</th>\n",
       "      <td>I0003</td>\n",
       "      <td>human resources expert</td>\n",
       "      <td>Description :ALL ABOUT TARGET As  part of our...</td>\n",
       "      <td>NaN</td>\n",
       "      <td>NaN</td>\n",
       "      <td>NaN</td>\n",
       "      <td>target</td>\n",
       "      <td>Glendale</td>\n",
       "      <td>CA</td>\n",
       "      <td>NaN</td>\n",
       "      <td>human resources expert  Description :ALL ABOUT...</td>\n",
       "    </tr>\n",
       "    <tr>\n",
       "      <th>4</th>\n",
       "      <td>I0004</td>\n",
       "      <td>cell phone technician</td>\n",
       "      <td>**LOOOKING TO HIRE WITHIN DAYS AND START ASAP*...</td>\n",
       "      <td>NaN</td>\n",
       "      <td>NaN</td>\n",
       "      <td>NaN</td>\n",
       "      <td>the fix cell phone/computer repair</td>\n",
       "      <td>Silver Spring</td>\n",
       "      <td>MD</td>\n",
       "      <td>NaN</td>\n",
       "      <td>cell phone technician **LOOOKING TO HIRE WITHI...</td>\n",
       "    </tr>\n",
       "    <tr>\n",
       "      <th>...</th>\n",
       "      <td>...</td>\n",
       "      <td>...</td>\n",
       "      <td>...</td>\n",
       "      <td>...</td>\n",
       "      <td>...</td>\n",
       "      <td>...</td>\n",
       "      <td>...</td>\n",
       "      <td>...</td>\n",
       "      <td>...</td>\n",
       "      <td>...</td>\n",
       "      <td>...</td>\n",
       "    </tr>\n",
       "    <tr>\n",
       "      <th>9062</th>\n",
       "      <td>M9062</td>\n",
       "      <td>senior business services analyst</td>\n",
       "      <td>RESPONSIBILITIES: Kforce  has a client that is...</td>\n",
       "      <td>NaN</td>\n",
       "      <td>NaN</td>\n",
       "      <td>NaN</td>\n",
       "      <td>NaN</td>\n",
       "      <td>NaN</td>\n",
       "      <td>NaN</td>\n",
       "      <td>https://www.careerbuilder.com/job/J3T26Q6VDXW9...</td>\n",
       "      <td>senior business services analyst RESPONSIBILIT...</td>\n",
       "    </tr>\n",
       "    <tr>\n",
       "      <th>9063</th>\n",
       "      <td>M9063</td>\n",
       "      <td>avp of corporate strategy &amp; business strategy</td>\n",
       "      <td>RESPONSIBILITIES: Kforce  has a client, a  For...</td>\n",
       "      <td>NaN</td>\n",
       "      <td>NaN</td>\n",
       "      <td>NaN</td>\n",
       "      <td>NaN</td>\n",
       "      <td>NaN</td>\n",
       "      <td>NaN</td>\n",
       "      <td>https://www.careerbuilder.com/job/J3N4Z26H1LX0...</td>\n",
       "      <td>avp of corporate strategy &amp; business strategy ...</td>\n",
       "    </tr>\n",
       "    <tr>\n",
       "      <th>9064</th>\n",
       "      <td>M9064</td>\n",
       "      <td>business analyst - registered nurse</td>\n",
       "      <td>Company   Overview : Creating  value by bring...</td>\n",
       "      <td>NaN</td>\n",
       "      <td>NaN</td>\n",
       "      <td>NaN</td>\n",
       "      <td>NaN</td>\n",
       "      <td>NaN</td>\n",
       "      <td>NaN</td>\n",
       "      <td>https://www.careerbuilder.com/job/JDD66078BTB8...</td>\n",
       "      <td>business analyst - registered nurse  Company  ...</td>\n",
       "    </tr>\n",
       "    <tr>\n",
       "      <th>9065</th>\n",
       "      <td>M9065</td>\n",
       "      <td>systems analyst</td>\n",
       "      <td>A leading consultancy is recruiting for a  Sys...</td>\n",
       "      <td>NaN</td>\n",
       "      <td>NaN</td>\n",
       "      <td>NaN</td>\n",
       "      <td>NaN</td>\n",
       "      <td>NaN</td>\n",
       "      <td>NaN</td>\n",
       "      <td>https://www.careerbuilder.com/job/J3Q0PN78ZKRP...</td>\n",
       "      <td>systems analyst A leading consultancy is recru...</td>\n",
       "    </tr>\n",
       "    <tr>\n",
       "      <th>9066</th>\n",
       "      <td>M9066</td>\n",
       "      <td>sales &amp; marketing team lead - competative spor...</td>\n",
       "      <td>MCO  Orlando  is currently offering entry leve...</td>\n",
       "      <td>NaN</td>\n",
       "      <td>NaN</td>\n",
       "      <td>NaN</td>\n",
       "      <td>NaN</td>\n",
       "      <td>NaN</td>\n",
       "      <td>NaN</td>\n",
       "      <td>https://www.careerbuilder.com/job/J2Y43469NDQ7...</td>\n",
       "      <td>sales &amp; marketing team lead - competative spor...</td>\n",
       "    </tr>\n",
       "  </tbody>\n",
       "</table>\n",
       "<p>47915 rows × 11 columns</p>\n",
       "</div>"
      ],
      "text/plain": [
       "         id                                          job_title  \\\n",
       "0     I0000                            manager, implementation   \n",
       "1     I0001                  account executive (digital sales)   \n",
       "2     I0002                         manager, sales development   \n",
       "3     I0003                             human resources expert   \n",
       "4     I0004                              cell phone technician   \n",
       "...     ...                                                ...   \n",
       "9062  M9062                   senior business services analyst   \n",
       "9063  M9063      avp of corporate strategy & business strategy   \n",
       "9064  M9064                business analyst - registered nurse   \n",
       "9065  M9065                                    systems analyst   \n",
       "9066  M9066  sales & marketing team lead - competative spor...   \n",
       "\n",
       "                                               job_docs job_type category  \\\n",
       "0      Ceridian .  Makes   Work   Life   Better ™ Th...      NaN      NaN   \n",
       "1      Salem   Media   Group  in the  Twin   Cities ...      NaN      NaN   \n",
       "2      We  are growing!  Join  us to make subscripti...      NaN      NaN   \n",
       "3      Description :ALL ABOUT TARGET As  part of our...      NaN      NaN   \n",
       "4     **LOOOKING TO HIRE WITHIN DAYS AND START ASAP*...      NaN      NaN   \n",
       "...                                                 ...      ...      ...   \n",
       "9062  RESPONSIBILITIES: Kforce  has a client that is...      NaN      NaN   \n",
       "9063  RESPONSIBILITIES: Kforce  has a client, a  For...      NaN      NaN   \n",
       "9064   Company   Overview : Creating  value by bring...      NaN      NaN   \n",
       "9065  A leading consultancy is recruiting for a  Sys...      NaN      NaN   \n",
       "9066  MCO  Orlando  is currently offering entry leve...      NaN      NaN   \n",
       "\n",
       "     job_board                        company_name              city state  \\\n",
       "0          NaN                            ceridian  Saint Petersburg    FL   \n",
       "1          NaN                   salem media group             Eagan    MN   \n",
       "2          NaN                             recurly     San Francisco    CA   \n",
       "3          NaN                              target          Glendale    CA   \n",
       "4          NaN  the fix cell phone/computer repair     Silver Spring    MD   \n",
       "...        ...                                 ...               ...   ...   \n",
       "9062       NaN                                 NaN               NaN   NaN   \n",
       "9063       NaN                                 NaN               NaN   NaN   \n",
       "9064       NaN                                 NaN               NaN   NaN   \n",
       "9065       NaN                                 NaN               NaN   NaN   \n",
       "9066       NaN                                 NaN               NaN   NaN   \n",
       "\n",
       "                                                    url  \\\n",
       "0                                                   NaN   \n",
       "1                                                   NaN   \n",
       "2                                                   NaN   \n",
       "3                                                   NaN   \n",
       "4                                                   NaN   \n",
       "...                                                 ...   \n",
       "9062  https://www.careerbuilder.com/job/J3T26Q6VDXW9...   \n",
       "9063  https://www.careerbuilder.com/job/J3N4Z26H1LX0...   \n",
       "9064  https://www.careerbuilder.com/job/JDD66078BTB8...   \n",
       "9065  https://www.careerbuilder.com/job/J3Q0PN78ZKRP...   \n",
       "9066  https://www.careerbuilder.com/job/J2Y43469NDQ7...   \n",
       "\n",
       "                                              full_desc  \n",
       "0     manager, implementation  Ceridian .  Makes   W...  \n",
       "1     account executive (digital sales)  Salem   Med...  \n",
       "2     manager, sales development  We  are growing!  ...  \n",
       "3     human resources expert  Description :ALL ABOUT...  \n",
       "4     cell phone technician **LOOOKING TO HIRE WITHI...  \n",
       "...                                                 ...  \n",
       "9062  senior business services analyst RESPONSIBILIT...  \n",
       "9063  avp of corporate strategy & business strategy ...  \n",
       "9064  business analyst - registered nurse  Company  ...  \n",
       "9065  systems analyst A leading consultancy is recru...  \n",
       "9066  sales & marketing team lead - competative spor...  \n",
       "\n",
       "[47915 rows x 11 columns]"
      ]
     },
     "execution_count": 25,
     "metadata": {},
     "output_type": "execute_result"
    }
   ],
   "source": [
    "data_all_postings"
   ]
  },
  {
   "cell_type": "markdown",
   "id": "0adf0fd1-d25c-4139-af9d-57771e615d32",
   "metadata": {
    "tags": []
   },
   "source": [
    "## Export new datasets\n",
    "___"
   ]
  },
  {
   "cell_type": "code",
   "execution_count": 26,
   "id": "40df8805-f29a-4998-b9d2-76e2d6b3491f",
   "metadata": {},
   "outputs": [],
   "source": [
    "data_all_postings.to_csv('../data/postings/postings.csv', index='id')"
   ]
  }
 ],
 "metadata": {
  "kernelspec": {
   "display_name": "Python 3 (ipykernel)",
   "language": "python",
   "name": "python3"
  },
  "language_info": {
   "codemirror_mode": {
    "name": "ipython",
    "version": 3
   },
   "file_extension": ".py",
   "mimetype": "text/x-python",
   "name": "python",
   "nbconvert_exporter": "python",
   "pygments_lexer": "ipython3",
   "version": "3.10.8"
  }
 },
 "nbformat": 4,
 "nbformat_minor": 5
}
